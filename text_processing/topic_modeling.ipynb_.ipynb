{
  "cells": [
    {
      "cell_type": "markdown",
      "source": [
        "В данном блокноте представлен тематический анализ текста (LDA)"
      ],
      "metadata": {
        "id": "yeLVMERw3l7K"
      }
    },
    {
      "cell_type": "markdown",
      "metadata": {
        "id": "4HpqBHwGmNTv"
      },
      "source": [
        "### dataset and preprocessing"
      ]
    },
    {
      "cell_type": "code",
      "source": [
        "import json\n",
        "\n",
        "# Открытие JSON-файла для чтения\n",
        "with open('processed_data.json', 'r') as file:\n",
        "    data = json.load(file)"
      ],
      "metadata": {
        "colab": {
          "base_uri": "https://localhost:8080/",
          "height": 193
        },
        "id": "d6ij_kiSnynL",
        "outputId": "4e507bd3-4d00-4b7c-c697-94ce88a2bd8f"
      },
      "execution_count": null,
      "outputs": [
        {
          "output_type": "error",
          "ename": "FileNotFoundError",
          "evalue": "[Errno 2] No such file or directory: 'processed_data.json'",
          "traceback": [
            "\u001b[0;31m---------------------------------------------------------------------------\u001b[0m",
            "\u001b[0;31mFileNotFoundError\u001b[0m                         Traceback (most recent call last)",
            "\u001b[0;32m<ipython-input-3-c3e68fbf4527>\u001b[0m in \u001b[0;36m<cell line: 4>\u001b[0;34m()\u001b[0m\n\u001b[1;32m      2\u001b[0m \u001b[0;34m\u001b[0m\u001b[0m\n\u001b[1;32m      3\u001b[0m \u001b[0;31m# Открытие JSON-файла для чтения\u001b[0m\u001b[0;34m\u001b[0m\u001b[0;34m\u001b[0m\u001b[0m\n\u001b[0;32m----> 4\u001b[0;31m \u001b[0;32mwith\u001b[0m \u001b[0mopen\u001b[0m\u001b[0;34m(\u001b[0m\u001b[0;34m'processed_data.json'\u001b[0m\u001b[0;34m,\u001b[0m \u001b[0;34m'r'\u001b[0m\u001b[0;34m)\u001b[0m \u001b[0;32mas\u001b[0m \u001b[0mfile\u001b[0m\u001b[0;34m:\u001b[0m\u001b[0;34m\u001b[0m\u001b[0;34m\u001b[0m\u001b[0m\n\u001b[0m\u001b[1;32m      5\u001b[0m     \u001b[0mdata\u001b[0m \u001b[0;34m=\u001b[0m \u001b[0mjson\u001b[0m\u001b[0;34m.\u001b[0m\u001b[0mload\u001b[0m\u001b[0;34m(\u001b[0m\u001b[0mfile\u001b[0m\u001b[0;34m)\u001b[0m\u001b[0;34m\u001b[0m\u001b[0;34m\u001b[0m\u001b[0m\n",
            "\u001b[0;31mFileNotFoundError\u001b[0m: [Errno 2] No such file or directory: 'processed_data.json'"
          ]
        }
      ]
    },
    {
      "cell_type": "code",
      "source": [
        "result_list = []\n",
        "# Обход вакансий\n",
        "for vacancy_data in data:\n",
        "    # Обход подтвержденных резюме для каждой вакансии\n",
        "    for resume_data in vacancy_data['confirmed_resumes']:\n",
        "        # Извлечение ключевой информации\n",
        "        key_info = resume_data.get('key_info')\n",
        "        # Проверка, что ключевая информация существует\n",
        "        if key_info:\n",
        "            # Добавление ключевой информации в список\n",
        "            result_list.append(key_info)\n",
        "\n",
        "for vacancy_data in data:\n",
        "    for resume_data in vacancy_data['failed_resumes']:\n",
        "        key_info = resume_data.get('key_info')\n",
        "        if key_info:\n",
        "            result_list.append(key_info)"
      ],
      "metadata": {
        "id": "KW4vnXTsnyyO"
      },
      "execution_count": null,
      "outputs": []
    },
    {
      "cell_type": "code",
      "execution_count": null,
      "metadata": {
        "id": "4RnhLNKSnjq-"
      },
      "outputs": [],
      "source": [
        "import re\n",
        "import numpy as np\n",
        "import pandas as pd\n",
        "from pprint import pprint\n",
        "\n",
        "import warnings\n",
        "warnings.filterwarnings(\"ignore\",category=DeprecationWarning)"
      ]
    },
    {
      "cell_type": "code",
      "execution_count": null,
      "metadata": {
        "id": "RIrdmHqjnjq_"
      },
      "outputs": [],
      "source": [
        "# Gensim\n",
        "import gensim\n",
        "import gensim.corpora as corpora\n",
        "from gensim.utils import simple_preprocess\n",
        "from gensim.models import CoherenceModel"
      ]
    },
    {
      "cell_type": "code",
      "source": [
        "!pip install pyLDAvis"
      ],
      "metadata": {
        "colab": {
          "base_uri": "https://localhost:8080/"
        },
        "id": "NkfS6RQqoFjW",
        "outputId": "9589ec06-1b47-48bf-bdcb-19fecbbafb28"
      },
      "execution_count": null,
      "outputs": [
        {
          "output_type": "stream",
          "name": "stdout",
          "text": [
            "Collecting pyLDAvis\n",
            "  Downloading pyLDAvis-3.4.1-py3-none-any.whl (2.6 MB)\n",
            "\u001b[2K     \u001b[90m━━━━━━━━━━━━━━━━━━━━━━━━━━━━━━━━━━━━━━━━\u001b[0m \u001b[32m2.6/2.6 MB\u001b[0m \u001b[31m11.7 MB/s\u001b[0m eta \u001b[36m0:00:00\u001b[0m\n",
            "\u001b[?25hRequirement already satisfied: numpy>=1.24.2 in /usr/local/lib/python3.10/dist-packages (from pyLDAvis) (1.25.2)\n",
            "Requirement already satisfied: scipy in /usr/local/lib/python3.10/dist-packages (from pyLDAvis) (1.11.4)\n",
            "Collecting pandas>=2.0.0 (from pyLDAvis)\n",
            "  Downloading pandas-2.2.1-cp310-cp310-manylinux_2_17_x86_64.manylinux2014_x86_64.whl (13.0 MB)\n",
            "\u001b[2K     \u001b[90m━━━━━━━━━━━━━━━━━━━━━━━━━━━━━━━━━━━━━━━━\u001b[0m \u001b[32m13.0/13.0 MB\u001b[0m \u001b[31m29.9 MB/s\u001b[0m eta \u001b[36m0:00:00\u001b[0m\n",
            "\u001b[?25hRequirement already satisfied: joblib>=1.2.0 in /usr/local/lib/python3.10/dist-packages (from pyLDAvis) (1.3.2)\n",
            "Requirement already satisfied: jinja2 in /usr/local/lib/python3.10/dist-packages (from pyLDAvis) (3.1.3)\n",
            "Requirement already satisfied: numexpr in /usr/local/lib/python3.10/dist-packages (from pyLDAvis) (2.9.0)\n",
            "Collecting funcy (from pyLDAvis)\n",
            "  Downloading funcy-2.0-py2.py3-none-any.whl (30 kB)\n",
            "Requirement already satisfied: scikit-learn>=1.0.0 in /usr/local/lib/python3.10/dist-packages (from pyLDAvis) (1.2.2)\n",
            "Requirement already satisfied: gensim in /usr/local/lib/python3.10/dist-packages (from pyLDAvis) (4.3.2)\n",
            "Requirement already satisfied: setuptools in /usr/local/lib/python3.10/dist-packages (from pyLDAvis) (67.7.2)\n",
            "Requirement already satisfied: python-dateutil>=2.8.2 in /usr/local/lib/python3.10/dist-packages (from pandas>=2.0.0->pyLDAvis) (2.8.2)\n",
            "Requirement already satisfied: pytz>=2020.1 in /usr/local/lib/python3.10/dist-packages (from pandas>=2.0.0->pyLDAvis) (2023.4)\n",
            "Collecting tzdata>=2022.7 (from pandas>=2.0.0->pyLDAvis)\n",
            "  Downloading tzdata-2024.1-py2.py3-none-any.whl (345 kB)\n",
            "\u001b[2K     \u001b[90m━━━━━━━━━━━━━━━━━━━━━━━━━━━━━━━━━━━━━━━━\u001b[0m \u001b[32m345.4/345.4 kB\u001b[0m \u001b[31m27.1 MB/s\u001b[0m eta \u001b[36m0:00:00\u001b[0m\n",
            "\u001b[?25hRequirement already satisfied: threadpoolctl>=2.0.0 in /usr/local/lib/python3.10/dist-packages (from scikit-learn>=1.0.0->pyLDAvis) (3.3.0)\n",
            "Requirement already satisfied: smart-open>=1.8.1 in /usr/local/lib/python3.10/dist-packages (from gensim->pyLDAvis) (6.4.0)\n",
            "Requirement already satisfied: MarkupSafe>=2.0 in /usr/local/lib/python3.10/dist-packages (from jinja2->pyLDAvis) (2.1.5)\n",
            "Requirement already satisfied: six>=1.5 in /usr/local/lib/python3.10/dist-packages (from python-dateutil>=2.8.2->pandas>=2.0.0->pyLDAvis) (1.16.0)\n",
            "Installing collected packages: funcy, tzdata, pandas, pyLDAvis\n",
            "  Attempting uninstall: pandas\n",
            "    Found existing installation: pandas 1.5.3\n",
            "    Uninstalling pandas-1.5.3:\n",
            "      Successfully uninstalled pandas-1.5.3\n",
            "\u001b[31mERROR: pip's dependency resolver does not currently take into account all the packages that are installed. This behaviour is the source of the following dependency conflicts.\n",
            "bigframes 0.21.0 requires pandas<2.1.4,>=1.5.0, but you have pandas 2.2.1 which is incompatible.\n",
            "google-colab 1.0.0 requires pandas==1.5.3, but you have pandas 2.2.1 which is incompatible.\u001b[0m\u001b[31m\n",
            "\u001b[0mSuccessfully installed funcy-2.0 pandas-2.2.1 pyLDAvis-3.4.1 tzdata-2024.1\n"
          ]
        }
      ]
    },
    {
      "cell_type": "code",
      "execution_count": null,
      "metadata": {
        "id": "4TtRw4ecOqQB"
      },
      "outputs": [],
      "source": [
        "# LDAvis\n",
        "import pyLDAvis\n",
        "# import pyLDAvis.gensim  - old version!!!\n",
        "import pyLDAvis.gensim_models\n",
        "import matplotlib.pyplot as plt\n",
        "%matplotlib inline"
      ]
    },
    {
      "cell_type": "code",
      "source": [
        "import nltk\n",
        "nltk.download('stopwords')\n"
      ],
      "metadata": {
        "colab": {
          "base_uri": "https://localhost:8080/"
        },
        "id": "v_3qJ45soWMk",
        "outputId": "d49d9f8f-74a3-471c-909d-7e41fe01a9e7"
      },
      "execution_count": null,
      "outputs": [
        {
          "output_type": "stream",
          "name": "stderr",
          "text": [
            "[nltk_data] Downloading package stopwords to /root/nltk_data...\n",
            "[nltk_data]   Unzipping corpora/stopwords.zip.\n"
          ]
        },
        {
          "output_type": "execute_result",
          "data": {
            "text/plain": [
              "True"
            ]
          },
          "metadata": {},
          "execution_count": 2
        }
      ]
    },
    {
      "cell_type": "code",
      "execution_count": null,
      "metadata": {
        "id": "ayoXkd3QOvkX",
        "outputId": "d6242c8c-0560-467b-91f2-4db2a36d1885",
        "colab": {
          "base_uri": "https://localhost:8080/"
        }
      },
      "outputs": [
        {
          "output_type": "stream",
          "name": "stderr",
          "text": [
            "/usr/local/lib/python3.10/dist-packages/ipykernel/ipkernel.py:283: DeprecationWarning: `should_run_async` will not call `transform_cell` automatically in the future. Please pass the result to `transformed_cell` argument and any exception that happen during thetransform in `preprocessing_exc_tuple` in IPython 7.17 and above.\n",
            "  and should_run_async(code)\n",
            "[nltk_data] Downloading package stopwords to /root/nltk_data...\n",
            "[nltk_data]   Package stopwords is already up-to-date!\n"
          ]
        }
      ],
      "source": [
        "import spacy\n",
        "import nltk\n",
        "from nltk.corpus import stopwords\n",
        "\n",
        "# Загрузка стоп-слов из NLTK\n",
        "nltk.download('stopwords')\n",
        "stop_words = set(stopwords.words('english'))\n",
        "stop_words.update(['from', 'subject', 're', 'edu', 'use'])  # Используйте метод update для добавления элементов во множество"
      ]
    },
    {
      "cell_type": "code",
      "execution_count": null,
      "metadata": {
        "id": "snmQOvi_njrC",
        "colab": {
          "base_uri": "https://localhost:8080/"
        },
        "outputId": "f2b3e1a4-6769-4bea-d3f9-4986f6a8f8ed"
      },
      "outputs": [
        {
          "output_type": "stream",
          "name": "stderr",
          "text": [
            "/usr/local/lib/python3.10/dist-packages/ipykernel/ipkernel.py:283: DeprecationWarning: `should_run_async` will not call `transform_cell` automatically in the future. Please pass the result to `transformed_cell` argument and any exception that happen during thetransform in `preprocessing_exc_tuple` in IPython 7.17 and above.\n",
            "  and should_run_async(code)\n"
          ]
        }
      ],
      "source": [
        "import warnings\n",
        "warnings.filterwarnings(\"ignore\")"
      ]
    },
    {
      "cell_type": "markdown",
      "metadata": {
        "id": "E--nXz1snjrD"
      },
      "source": [
        "# Preprocessing and tokenize"
      ]
    },
    {
      "cell_type": "code",
      "execution_count": null,
      "metadata": {
        "colab": {
          "base_uri": "https://localhost:8080/"
        },
        "id": "4mpoIguTPSDt",
        "outputId": "a777507a-3423-4b83-ebf7-7c42a2b46646"
      },
      "outputs": [
        {
          "output_type": "stream",
          "name": "stdout",
          "text": [
            "1. Технологический стек включает Java 11, Spring Boot, Hibernate, Spring Data, Spring Security, Maven, Camunda, Postgres, Liquibase, Kafka, jUnit, Mockito, Swagger, Bitbucket. 2. Имеется опыт работы над проектами по управлению складскими помещениями, интеграции call-центра с системой телефонии Avaya, хранению и поставке пользовательских данных в межведомственные системы электронного взаимодействия Ленинградской области. 3. Образование не указано (NaN). 4. Возраст не указан (NaN). 5. Уровень - сеньор. 6. Предпочитает работу в офисе. 7. Зарплата не указана (NaN). 8. Личные качества: аккуратность, ответственность, умение работать в команде, способность проводить code-review, стремление к повышению time-to-market.\n"
          ]
        }
      ],
      "source": [
        "# Convert to list\n",
        "data = result_list\n",
        "\n",
        "# Remove Emails\n",
        "data = [re.sub('\\S*@\\S*\\s?', '', sent) for sent in data]\n",
        "\n",
        "# Remove new line characters\n",
        "data = [re.sub('\\s+', ' ', sent) for sent in data]\n",
        "\n",
        "# Remove single quotes\n",
        "data = [re.sub(\"\\'\", \"\", sent) for sent in data]"
      ]
    },
    {
      "cell_type": "code",
      "execution_count": null,
      "metadata": {
        "colab": {
          "base_uri": "https://localhost:8080/"
        },
        "id": "HOMfSoyJS_QO",
        "outputId": "7666b057-1a11-4173-e8a3-1e09553da0c1"
      },
      "outputs": [
        {
          "output_type": "stream",
          "name": "stdout",
          "text": [
            "['технологическии', 'стек', 'java', 'android', 'sdk', 'design', 'patterns', 'eclipse', 'git', 'atlassian', 'jira', 'intellij', 'idea', 'netbeans', 'opencv', 'postgresql', 'spring', 'framework', 'коммерческии', 'опыт', 'работал', 'компании', 'luxoft', 'занимался', 'разработкои', 'тестированием', 'rest', 'контроллеров', 'бизнес', 'репозиториев', 'сервисов', 'разработывал', 'внешние', 'интеграции', 'анализировал', 'старыи', 'код', 'для', 'его', 'расширения', 'участвовал', 'разработке', 'по', 'для', 'автомобильнои', 'системы', 'era', 'glonass', 'образование', 'инженер', 'самарском', 'государственном', 'аэрокосмическом', 'университете', 'им', 'академика', 'королева', 'возраст', 'nan', 'grade', 'разработчик', 'предпочтения', 'nan', 'зарплата', 'не', 'указана', 'личные', 'качества', 'аналитические', 'навыки', 'точность', 'умение', 'работать', 'команде']\n",
            "656\n"
          ]
        }
      ],
      "source": [
        "# tokenize\n",
        "def sent_to_words(sentences):\n",
        "    for sentence in sentences:\n",
        "        yield(gensim.utils.simple_preprocess(str(sentence), deacc=True))  # deacc=True removes punctuations\n",
        "\n",
        "data_words = list(sent_to_words(data))\n"
      ]
    },
    {
      "cell_type": "code",
      "source": [
        "deleted_words = ['опыт', 'качества', 'образование', 'работа', 'работал']\n",
        "\n",
        "# Функция для фильтрации удаленных слов\n",
        "def filter_deleted_words(words):\n",
        "    return [word for word in words if word not in deleted_words]\n",
        "\n",
        "# Применение функции к каждому списку в data_words\n",
        "data_words = [filter_deleted_words(words) for words in data_words]\n"
      ],
      "metadata": {
        "colab": {
          "base_uri": "https://localhost:8080/"
        },
        "id": "aY8w_UA0yFwC",
        "outputId": "455f430f-cf07-47c2-f09b-e7a1ac9e818e"
      },
      "execution_count": null,
      "outputs": [
        {
          "output_type": "stream",
          "name": "stdout",
          "text": [
            "['технологическии', 'стек', 'java', 'android', 'sdk', 'design', 'patterns', 'eclipse', 'git', 'atlassian', 'jira', 'intellij', 'idea', 'netbeans', 'opencv', 'postgresql', 'spring', 'framework', 'коммерческии', 'компании', 'luxoft', 'занимался', 'разработкои', 'тестированием', 'rest', 'контроллеров', 'бизнес', 'репозиториев', 'сервисов', 'разработывал', 'внешние', 'интеграции', 'анализировал', 'старыи', 'код', 'для', 'его', 'расширения', 'участвовал', 'разработке', 'по', 'для', 'автомобильнои', 'системы', 'era', 'glonass', 'инженер', 'самарском', 'государственном', 'аэрокосмическом', 'университете', 'им', 'академика', 'королева', 'возраст', 'nan', 'grade', 'разработчик', 'предпочтения', 'nan', 'зарплата', 'не', 'указана', 'личные', 'аналитические', 'навыки', 'точность', 'умение', 'работать', 'команде']\n"
          ]
        }
      ]
    },
    {
      "cell_type": "code",
      "execution_count": null,
      "metadata": {
        "colab": {
          "base_uri": "https://localhost:8080/"
        },
        "id": "JLLS_JNEUFHn",
        "outputId": "58a58526-86e8-40a6-a6f0-484f61271973"
      },
      "outputs": [
        {
          "output_type": "stream",
          "name": "stdout",
          "text": [
            "['технологическии', 'стек', 'включает', 'java', 'spring', 'boot', 'hibernate', 'spring', 'data', 'spring', 'security', 'maven', 'camunda', 'postgres', 'liquibase', 'kafka', 'junit_mockito', 'swagger', 'bitbucket', 'имеется', 'работы', 'над_проектами', 'по', 'управлению', 'складскими', 'помещениями', 'интеграции', 'call_центра', 'системои', 'телефонии', 'avaya', 'хранению', 'поставке', 'данных', 'системы', 'электронного', 'взаимодеиствия', 'ленинградскои', 'области', 'не', 'указано', 'nan', 'возраст', 'не', 'указан', 'nan', 'уровень', 'сеньор', 'предпочитает', 'работу', 'офисе', 'зарплата', 'не', 'указана', 'nan', 'личные', 'аккуратность', 'ответственность', 'умение_работать_команде', 'способность', 'проводить_code', 'review', 'стремление', 'повышению', 'time', 'to', 'market']\n"
          ]
        }
      ],
      "source": [
        "# Build the bigram and trigram models\n",
        "bigram = gensim.models.Phrases(data_words, min_count=3, threshold=100) # higher threshold =>> fewer number of bigrams.\n",
        "trigram = gensim.models.Phrases(bigram[data_words], threshold=100)\n",
        "\n",
        "bigram_mod = gensim.models.phrases.Phraser(bigram)\n",
        "trigram_mod = gensim.models.phrases.Phraser(trigram)\n"
      ]
    },
    {
      "cell_type": "code",
      "execution_count": null,
      "metadata": {
        "id": "Jh-woupdXdVi"
      },
      "outputs": [],
      "source": [
        "# Define functions for stopwords, bigrams, trigrams and lemmatization\n",
        "def remove_stopwords(texts):\n",
        "    return [[word for word in simple_preprocess(str(doc)) if word not in stop_words] for doc in texts]\n",
        "\n",
        "def make_bigrams(texts):\n",
        "    return [bigram_mod[doc] for doc in texts]\n",
        "\n",
        "def make_trigrams(texts):\n",
        "    return [trigram_mod[bigram_mod[doc]] for doc in texts]\n",
        "\n",
        "def lemmatization(texts, allowed_postags=['NOUN', 'ADJ', 'VERB', 'ADV']):\n",
        "    \"\"\"https://spacy.io/api/annotation\"\"\"\n",
        "    texts_out = []\n",
        "    for sent in texts:\n",
        "        doc = nlp(\" \".join(sent))\n",
        "        texts_out.append([token.lemma_ for token in doc if token.pos_ in allowed_postags])\n",
        "    return texts_out"
      ]
    },
    {
      "cell_type": "code",
      "execution_count": null,
      "metadata": {
        "id": "5jvhPRR-njrK"
      },
      "outputs": [],
      "source": [
        "# Remove Stop Words\n",
        "data_words_nostops = remove_stopwords(data_words)\n",
        "\n",
        "# Form Bigrams\n",
        "data_words_bigrams = make_bigrams(data_words_nostops)"
      ]
    },
    {
      "cell_type": "code",
      "execution_count": null,
      "metadata": {
        "id": "fNmMq854njrK"
      },
      "outputs": [],
      "source": [
        "# !python -m spacy download en_core_web_sm\n",
        "nlp = spacy.load('en_core_web_sm')"
      ]
    },
    {
      "cell_type": "code",
      "execution_count": null,
      "metadata": {
        "colab": {
          "base_uri": "https://localhost:8080/"
        },
        "id": "BTL5BpOLY3ln",
        "outputId": "8435bbb8-b67b-410c-d891-312a71a3a32f"
      },
      "outputs": [
        {
          "output_type": "stream",
          "name": "stdout",
          "text": [
            "['mybatis', 'dataspace', 'backend', 'service', 'ростовскии', 'test', 'set', 'государственныи', 'университет', 'экономики', 'сервиса', 'ростовскии', 'статистическии', 'личные', 'понимание', 'банковскои', 'практик', 'участия', 'открытии', 'dataspace']\n"
          ]
        }
      ],
      "source": [
        "# Do lemmatization keeping only noun, adj, vb, adv\n",
        "data_lemmatized = lemmatization(data_words_bigrams, allowed_postags=['NOUN', 'ADJ', 'VERB', 'ADV'])\n"
      ]
    },
    {
      "cell_type": "code",
      "execution_count": null,
      "metadata": {
        "colab": {
          "base_uri": "https://localhost:8080/"
        },
        "id": "R3IEOI7qaOin",
        "outputId": "f230b05b-6212-4091-ef28-4a13551e0036"
      },
      "outputs": [
        {
          "output_type": "stream",
          "name": "stdout",
          "text": [
            "[[(0, 1), (1, 1), (2, 1), (3, 1), (4, 1), (5, 1), (6, 2), (7, 1), (8, 1), (9, 1), (10, 1), (11, 1), (12, 1), (13, 1)]]\n"
          ]
        }
      ],
      "source": [
        "id2word = corpora.Dictionary(data_lemmatized)\n",
        "\n",
        "# Create Corpus\n",
        "texts = data_lemmatized\n",
        "\n",
        "# Term Document Frequency\n",
        "corpus = [id2word.doc2bow(text) for text in texts]\n"
      ]
    },
    {
      "cell_type": "code",
      "execution_count": null,
      "metadata": {
        "colab": {
          "base_uri": "https://localhost:8080/"
        },
        "id": "L1Must_7gbMS",
        "outputId": "2f334091-5d1f-4615-ba28-0e26a082105d"
      },
      "outputs": [
        {
          "output_type": "execute_result",
          "data": {
            "text/plain": [
              "[[('avaya', (0, 1)),\n",
              "  ('datum', (1, 1)),\n",
              "  ('hibernate', (2, 1)),\n",
              "  ('market', (3, 1)),\n",
              "  ('review', (4, 1)),\n",
              "  ('security', (5, 1)),\n",
              "  ('spring', (6, 2)),\n",
              "  ('time', (7, 1)),\n",
              "  ('включает', (8, 1)),\n",
              "  ('ответственность', (9, 1)),\n",
              "  ('повышению', (10, 1)),\n",
              "  ('проводить_code', (11, 1)),\n",
              "  ('способность', (12, 1)),\n",
              "  ('стремление', (13, 1))]]"
            ]
          },
          "metadata": {},
          "execution_count": 35
        }
      ],
      "source": [
        "[[(id2word[id], freq) for id, freq in enumerate(cp)] for cp in corpus[:1]]"
      ]
    },
    {
      "cell_type": "markdown",
      "source": [
        "# LDA"
      ],
      "metadata": {
        "id": "grT-zf_m4sS6"
      }
    },
    {
      "cell_type": "code",
      "execution_count": null,
      "metadata": {
        "id": "t9n4sZSch4B6"
      },
      "outputs": [],
      "source": [
        "lda_model = gensim.models.ldamodel.LdaModel(corpus=corpus,\n",
        "                                           id2word=id2word,\n",
        "                                           num_topics=4,\n",
        "                                           random_state=100,\n",
        "                                           update_every=1,\n",
        "                                           chunksize=100,\n",
        "                                           passes=10,\n",
        "                                           alpha='auto',\n",
        "                                           per_word_topics=True)"
      ]
    },
    {
      "cell_type": "code",
      "execution_count": null,
      "metadata": {
        "colab": {
          "base_uri": "https://localhost:8080/"
        },
        "id": "U3GAI_PZm3Q0",
        "outputId": "81f6ae4d-5b23-48be-bd69-508c8042ace9"
      },
      "outputs": [
        {
          "output_type": "stream",
          "name": "stdout",
          "text": [
            "[(0,\n",
            "  '0.013*\"опытныи_специалист\" + 0.012*\"etl\" + 0.010*\"experience\" + '\n",
            "  '0.007*\"project\" + 0.007*\"оптимизации\" + 0.006*\"системы\" + '\n",
            "  '0.006*\"разработку\" + 0.006*\"компонентов\" + 0.005*\"skill\" + 0.005*\"проекты\"'),\n",
            " (1,\n",
            "  '0.021*\"приложения\" + 0.016*\"проекте\" + 0.012*\"работе\" + 0.011*\"разработчик\" '\n",
            "  '+ 0.008*\"работаю\" + 0.006*\"пользователеи\" + 0.006*\"power_bi\" + '\n",
            "  '0.006*\"fastapi\" + 0.006*\"management\" + 0.006*\"confluence\"'),\n",
            " (2,\n",
            "  '0.060*\"spring\" + 0.029*\"boot\" + 0.022*\"postgresql\" + '\n",
            "  '0.020*\"ответственность\" + 0.015*\"web\" + 0.014*\"openshift\" + 0.013*\"kafka\" + '\n",
            "  '0.013*\"security\" + 0.013*\"включает\" + 0.013*\"разработка\"'),\n",
            " (3,\n",
            "  '0.026*\"postgresql\" + 0.020*\"kubernete\" + 0.015*\"работы\" + 0.015*\"систем\" + '\n",
            "  '0.014*\"docker\" + 0.012*\"mongodb\" + 0.011*\"api\" + 0.011*\"grade\" + '\n",
            "  '0.010*\"rest\" + 0.010*\"предпочтения\"')]\n"
          ]
        }
      ],
      "source": [
        "# Print the Keyword in the 10 topics\n",
        "pprint(lda_model.print_topics())\n",
        "doc_lda = lda_model[corpus]"
      ]
    },
    {
      "cell_type": "code",
      "execution_count": null,
      "metadata": {
        "colab": {
          "base_uri": "https://localhost:8080/"
        },
        "id": "HdnFMEgIpNp6",
        "outputId": "e81c46f1-5863-4d51-b4fd-0ef61fcab206"
      },
      "outputs": [
        {
          "output_type": "stream",
          "name": "stdout",
          "text": [
            "\n",
            "Perplexity:  -7.589402034515766\n",
            "\n",
            "Coherence Score:  0.41909650165446943\n"
          ]
        }
      ],
      "source": [
        "# Compute Perplexity\n",
        "print('\\nPerplexity: ', lda_model.log_perplexity(corpus))  # a measure of how good the model is. lower the better.\n",
        "\n",
        "# Compute Coherence Score\n",
        "coherence_model_lda = CoherenceModel(model=lda_model, texts=data_lemmatized, dictionary=id2word, coherence='c_v')\n",
        "coherence_lda = coherence_model_lda.get_coherence()\n",
        "print('\\nCoherence Score: ', coherence_lda)"
      ]
    },
    {
      "cell_type": "code",
      "source": [
        "pyLDAvis.enable_notebook()\n",
        "vis = pyLDAvis.gensim_models.prepare(lda_model, corpus, id2word, mds='mmds', sort_topics=False)\n",
        "\n",
        "# Сохраните визуализацию в виде изображения\n",
        "pyLDAvis.save_html(vis, 'your_visualization.html')\n",
        "\n",
        "# Сохраните визуализацию в виде изображения (PNG, например)\n",
        "plt.figure(figsize=(10, 10))\n",
        "plt.imshow(vis.to_image(), aspect='auto')\n",
        "plt.axis('off')\n",
        "plt.savefig('your_visualization.png', bbox_inches='tight')\n",
        "\n",
        "vis\n",
        "\n",
        "#\n"
      ],
      "metadata": {
        "colab": {
          "base_uri": "https://localhost:8080/",
          "height": 862
        },
        "id": "K2YtUKe5q7fi",
        "outputId": "28a3fb2a-1359-48e8-8758-12a7327f5ce8"
      },
      "execution_count": null,
      "outputs": [
        {
          "output_type": "execute_result",
          "data": {
            "text/plain": [
              "PreparedData(topic_coordinates=              x         y  topics  cluster       Freq\n",
              "topic                                                \n",
              "0     -0.189612 -0.086632       1        1  14.387455\n",
              "1     -0.123003  0.160276       2        1  14.437378\n",
              "2      0.138202 -0.180345       3        1  34.263014\n",
              "3      0.174413  0.106701       4        1  36.912153, topic_info=                Term        Freq       Total Category  logprob  loglift\n",
              "6             spring  210.000000  210.000000  Default  30.0000  30.0000\n",
              "587             boot  100.000000  100.000000  Default  29.0000  29.0000\n",
              "9    ответственность   64.000000   64.000000  Default  28.0000  28.0000\n",
              "266       приложения   28.000000   28.000000  Default  27.0000  27.0000\n",
              "20        postgresql  156.000000  156.000000  Default  26.0000  26.0000\n",
              "..               ...         ...         ...      ...      ...      ...\n",
              "491        framework   27.697917   67.265105   Topic4  -4.7996   0.1093\n",
              "52        разработка   28.327996   73.303886   Topic4  -4.7771   0.0459\n",
              "284     коммерческии   23.312677   45.255816   Topic4  -4.9719   0.3333\n",
              "78          rabbitmq   21.039262   47.477931   Topic4  -5.0745   0.1828\n",
              "6             spring   22.469029  210.886247   Topic4  -5.0088  -1.2426\n",
              "\n",
              "[214 rows x 6 columns], token_table=      Topic      Freq         Term\n",
              "term                              \n",
              "696       1  0.738609          age\n",
              "205       2  0.356896        agile\n",
              "205       4  0.642412        agile\n",
              "124       1  0.890731     analysis\n",
              "801       4  0.994618      ansible\n",
              "...     ...       ...          ...\n",
              "67        3  0.431665  университет\n",
              "67        4  0.563041  университет\n",
              "24        4  0.968994   участвовал\n",
              "47        3  0.948537      участие\n",
              "2729      2  0.947176           фз\n",
              "\n",
              "[226 rows x 3 columns], R=30, lambda_step=0.01, plot_opts={'xlab': 'PC1', 'ylab': 'PC2'}, topic_order=[1, 2, 3, 4])"
            ],
            "text/html": [
              "\n",
              "<link rel=\"stylesheet\" type=\"text/css\" href=\"https://cdn.jsdelivr.net/gh/bmabey/pyLDAvis@3.4.0/pyLDAvis/js/ldavis.v1.0.0.css\">\n",
              "\n",
              "\n",
              "<div id=\"ldavis_el110801325041219620327718093956\" style=\"background-color:white;\"></div>\n",
              "<script type=\"text/javascript\">\n",
              "\n",
              "var ldavis_el110801325041219620327718093956_data = {\"mdsDat\": {\"x\": [-0.18961218226487542, -0.12300278394897433, 0.13820242046134384, 0.1744125457525059], \"y\": [-0.08663229868880123, 0.16027567069869028, -0.18034477021545026, 0.10670139820556118], \"topics\": [1, 2, 3, 4], \"cluster\": [1, 1, 1, 1], \"Freq\": [14.38745545963386, 14.437377656634801, 34.263013850014154, 36.91215303371718]}, \"tinfo\": {\"Term\": [\"spring\", \"boot\", \"\\u043e\\u0442\\u0432\\u0435\\u0442\\u0441\\u0442\\u0432\\u0435\\u043d\\u043d\\u043e\\u0441\\u0442\\u044c\", \"\\u043f\\u0440\\u0438\\u043b\\u043e\\u0436\\u0435\\u043d\\u0438\\u044f\", \"postgresql\", \"web\", \"kubernete\", \"openshift\", \"\\u043f\\u0440\\u043e\\u0435\\u043a\\u0442\\u0435\", \"kafka\", \"security\", \"\\u0432\\u043a\\u043b\\u044e\\u0447\\u0430\\u0435\\u0442\", \"mongodb\", \"\\u043e\\u043f\\u044b\\u0442\\u043d\\u044b\\u0438_\\u0441\\u043f\\u0435\\u0446\\u0438\\u0430\\u043b\\u0438\\u0441\\u0442\", \"hibernate\", \"\\u043f\\u0440\\u0435\\u0434\\u043f\\u043e\\u0447\\u0442\\u0435\\u043d\\u0438\\u044f\", \"\\u0440\\u0430\\u0431\\u043e\\u0442\\u0435\", \"etl\", \"\\u0441\\u0438\\u0441\\u0442\\u0435\\u043c\", \"\\u0440\\u0430\\u0437\\u0440\\u0430\\u0431\\u043e\\u0442\\u0447\\u0438\\u043a\", \"\\u0440\\u0430\\u0431\\u043e\\u0442\\u044b\", \"datum\", \"\\u0441\\u0438\\u0441\\u0442\\u0435\\u043c\\u044b\", \"\\u0430\\u0432\\u0442\\u043e\\u043c\\u0430\\u0442\\u0438\\u0437\\u0430\\u0446\\u0438\\u0438\", \"\\u0438\\u0441\\u043f\\u043e\\u043b\\u044c\\u0437\\u043e\\u0432\\u0430\\u043d\\u0438\\u0435\\u043c\", \"experience\", \"postgre\", \"docker\", \"framework\", \"gradle\", \"\\u043e\\u043f\\u044b\\u0442\\u043d\\u044b\\u0438_\\u0441\\u043f\\u0435\\u0446\\u0438\\u0430\\u043b\\u0438\\u0441\\u0442\", \"experience\", \"\\u0440\\u0430\\u0437\\u0440\\u0430\\u0431\\u043e\\u0442\\u043a\\u0443\", \"\\u043a\\u043e\\u043c\\u043f\\u043e\\u043d\\u0435\\u043d\\u0442\\u043e\\u0432\", \"skill\", \"analysis\", \"\\u043e\\u043f\\u0442\\u0438\\u043c\\u0438\\u0437\\u0430\\u0446\\u0438\\u044f\", \"system\", \"requirement\", \"pyt\", \"perl\", \"development\", \"\\u043f\\u0438\\u0441\\u0430\\u043b\", \"use\", \"\\u043e\\u043f\\u0442\\u0438\\u043c\\u0438\\u0437\\u0430\\u0446\\u0438\\u0438\", \"\\u0441\\u043a\\u0440\\u0438\\u043f\\u0442\\u043e\\u0432\", \"\\u0430\\u043d\\u0430\\u043b\\u0438\\u0437\\u0430\", \"\\u0432\\u043d\\u0438\\u043c\\u0430\\u0442\\u0435\\u043b\\u044c\\u043d\\u043e\\u0441\\u0442\\u044c\", \"typescript\", \"compose_keycloak\", \"salary\", \"strong\", \"team\", \"\\u043a\\u0443\\u0440\\u0441\", \"work\", \"degree\", \"\\u0434\\u0438\\u0441\\u0442\\u0430\\u043d\\u0446\\u0438\\u043e\\u043d\\u043d\\u043e\\u0433\\u043e\", \"\\u0443\\u043c\\u0435\\u043d\\u0438\\u0435\", \"age\", \"less\", \"etl\", \"project\", \"openshift_istio\", \"\\u043f\\u0440\\u043e\\u0435\\u043a\\u0442\\u044b\", \"\\u043d\\u0430\\u043f\\u0440\\u0430\\u0432\\u043b\\u0435\\u043d\\u0438\\u044e\", \"\\u0441\\u0438\\u0441\\u0442\\u0435\\u043c\\u044b\", \"product\", \"server\", \"senior\", \"datum\", \"\\u043f\\u0440\\u0438\\u043b\\u043e\\u0436\\u0435\\u043d\\u0438\\u044f\", \"\\u043f\\u0440\\u043e\\u0435\\u043a\\u0442\\u0435\", \"\\u0440\\u0430\\u0431\\u043e\\u0442\\u0435\", \"\\u0440\\u0430\\u0437\\u0440\\u0430\\u0431\\u043e\\u0442\\u0447\\u0438\\u043a\", \"\\u0440\\u0430\\u0431\\u043e\\u0442\\u0430\\u044e\", \"\\u043f\\u043e\\u043b\\u044c\\u0437\\u043e\\u0432\\u0430\\u0442\\u0435\\u043b\\u0435\\u0438\", \"power_bi\", \"fastapi\", \"axio\", \"\\u0440\\u0435\\u0441\\u0443\\u0440\\u0441\\u043e\\u0432\", \"\\u0430\\u043d\\u0430\\u043b\\u0438\\u0442\\u0438\\u043a\\u0438\", \"retrofit\", \"unit\", \"\\u0438\\u043d\\u0444\\u043e\\u0440\\u043c\\u0430\\u0446\\u0438\\u043e\\u043d\\u043d\\u044b\\u043c\", \"\\u0444\\u0437\", \"\\u0431\\u044b\\u0441\\u0442\\u0440\\u0430\\u044f_\\u043e\\u0431\\u0443\\u0447\\u0430\\u0435\\u043c\\u043e\\u0441\\u0442\\u044c\", \"\\u043f\\u043e\\u0434\", \"room\", \"\\u0441\\u0438\\u0441\\u0442\\u0435\\u043c\\u043e\\u0438\", \"\\u043b\\u044e\\u0434\\u0435\\u0438\", \"solid\", \"\\u043c\\u0438\\u043a\\u0440\\u043e\\u0441\\u0435\\u0440\\u0432\\u0438\\u0441\\u043e\\u0432\", \"\\u0430\\u043d\\u0430\\u043b\\u0438\\u0437\", \"power\", \"\\u0432\\u043d\\u0435\\u0434\\u0440\\u0438\\u043b\", \"\\u043d\\u043e\\u0432\\u043e\\u0435\", \"\\u0438\\u0437_\\u0441\\u043f\\u0435\\u0446\\u0438\\u0430\\u043b\\u0438\\u0441\\u0442\\u043e\\u0432\", \"\\u0432\\u043d\\u0443\\u0442\\u0440\\u0435\\u043d\\u043d\\u0438\\u0445\", \"\\u043f\\u043e\\u0434\\u0434\\u0435\\u0440\\u0436\\u043a\\u043e\\u0438\", \"\\u0434\\u0430\\u0432\\u043b\\u0435\\u043d\\u0438\\u0435\\u043c\", \"management\", \"\\u0432\\u0435\\u0440\\u0441\\u0442\\u043a\\u0430\", \"design\", \"\\u043e\\u0442\\u0447\\u0435\\u0442\\u043e\\u0432\", \"confluence\", \"frontend\", \"api\", \"project\", \"\\u043a\\u043e\\u043c\\u043c\\u0435\\u0440\\u0447\\u0435\\u0441\\u043a\\u0438\\u0438\", \"agile\", \"\\u0440\\u0430\\u0431\\u043e\\u0442\\u0430\\u0442\\u044c\", \"rest\", \"\\u0440\\u0430\\u0437\\u0440\\u0430\\u0431\\u043e\\u0442\\u043a\\u0430\", \"\\u043e\\u0442\\u0432\\u0435\\u0442\\u0441\\u0442\\u0432\\u0435\\u043d\\u043d\\u043e\\u0441\\u0442\\u044c\", \"web\", \"security\", \"\\u0432\\u043a\\u043b\\u044e\\u0447\\u0430\\u0435\\u0442\", \"kafka\", \"openshift\", \"hibernate\", \"\\u0438\\u0441\\u043f\\u043e\\u043b\\u044c\\u0437\\u043e\\u0432\\u0430\\u043d\\u0438\\u0435\\u043c\", \"review\", \"\\u043a\\u0430\\u043a\", \"cloud\", \"\\u043f\\u0440\\u043e\\u0435\\u043a\\u0442\", \"testcontainer\", \"\\u0443\\u0447\\u0430\\u0441\\u0442\\u0438\\u0435\", \"\\u0432\\u043d\\u0438\\u043c\\u0430\\u0442\\u0435\\u043b\\u044c\\u043d\\u043e\\u0441\\u0442\\u044c_\\u0434\\u0435\\u0442\\u0430\\u043b\\u044f\\u043c\", \"\\u043e\\u0431\\u0443\\u0447\\u0435\\u043d\\u0438\\u044e\", \"\\u043a\\u043e\\u043c\\u0430\\u043d\\u0434\\u0430\", \"\\u043e\\u043f\\u044b\\u0442\\u043e\\u043c\", \"\\u043c\\u0438\\u043a\\u0440\\u043e\\u0441\\u0435\\u0440\\u0432\\u0438\\u0441\\u043d\\u043e\\u0438_\\u0430\\u0440\\u0445\\u0438\\u0442\\u0435\\u043a\\u0442\\u0443\\u0440\\u0435\", \"\\u0442\\u0435\\u0441\\u0442\\u043e\\u0432\", \"\\u043e\\u0448\\u0438\\u0431\\u043e\\u043a\", \"\\u043e\\u0442\\u0441\\u0443\\u0442\\u0441\\u0442\\u0432\\u0443\\u0435\\u0442\", \"gradle\", \"\\u0441\\u0442\\u0440\\u0435\\u043c\\u043b\\u0435\\u043d\\u0438\\u0435\", \"\\u043d\\u0430\\u043f\\u0438\\u0441\\u0430\\u043d\\u0438\\u044f\", \"code_review\", \"restful\", \"\\u043b\\u044e\\u0431\\u043e\\u0432\\u044c\", \"\\u0437\\u0430\\u0434\\u0430\\u0447\", \"boot\", \"spring\", \"\\u0438\\u043c\\u0435\\u0435\\u0442\\u0441\\u044f\", \"java\", \"datum\", \"liquibase\", \"oracle\", \"integration\", \"\\u043c\\u043e\\u0441\\u043a\\u043e\\u0432\\u0441\\u043a\\u0438\\u0438\", \"\\u0441\\u0438\\u0441\\u0442\\u0435\\u043c\\u044b\", \"\\u0433\\u043e\\u0441\\u0443\\u0434\\u0430\\u0440\\u0441\\u0442\\u0432\\u0435\\u043d\\u043d\\u044b\\u0438\", \"framework\", \"postgresql\", \"\\u0440\\u0430\\u0437\\u0440\\u0430\\u0431\\u043e\\u0442\\u043a\\u0430\", \"\\u043b\\u0438\\u0447\\u043d\\u044b\\u0435\", \"\\u043a\\u043e\\u0434\\u0430\", \"rabbitmq\", \"\\u043f\\u0440\\u0438\\u043b\\u043e\\u0436\\u0435\\u043d\\u0438\\u0438\", \"\\u0440\\u0430\\u0431\\u043e\\u0442\\u044b\", \"docker\", \"\\u0443\\u043d\\u0438\\u0432\\u0435\\u0440\\u0441\\u0438\\u0442\\u0435\\u0442\", \"rest\", \"mongodb\", \"\\u043f\\u0440\\u0435\\u0434\\u043f\\u043e\\u0447\\u0442\\u0435\\u043d\\u0438\\u044f\", \"\\u0430\\u0432\\u0442\\u043e\\u043c\\u0430\\u0442\\u0438\\u0437\\u0430\\u0446\\u0438\\u0438\", \"postgre\", \"\\u043f\\u0440\\u043e\\u0435\\u043a\\u0442\\u043e\\u0432\", \"\\u043f\\u0440\\u0435\\u0434\\u043b\\u043e\\u0436\\u0435\\u043d\\u0438\\u0435_\\u0432\\u043e\\u0437\\u0440\\u0430\\u0441\\u0442\\u043e\\u043c\", \"devop\", \"\\u0435\\u0441\\u0442\\u044c\", \"\\u0443\\u0447\\u0430\\u0441\\u0442\\u0432\\u043e\\u0432\\u0430\\u043b\", \"\\u043d\\u0430\\u043f\\u0438\\u0441\\u0430\\u043d\\u0438\\u0435\", \"\\u0438\\u043d\\u0442\\u0435\\u0433\\u0440\\u0430\\u0446\\u0438\\u044f\", \"soap\", \"mysql\", \"ansible\", \"teamcity\", \"\\u043f\\u0440\\u0435\\u0434\\u043b\\u043e\\u0436\\u0435\\u043d\\u0438\\u0435_\\u0441\\u043e\\u0434\\u0435\\u0440\\u0436\\u0430\\u0449\\u0435\\u0435\", \"\\u0431\\u0430\\u043d\\u043a\\u043e\\u0432\\u0441\\u043a\\u043e\\u0438\", \"\\u0431\\u0438\\u0437\\u043d\\u0435\\u0441\", \"\\u043d\\u0430\\u0434_\\u043f\\u0440\\u043e\\u0435\\u043a\\u0442\\u0430\\u043c\\u0438\", \"elasticsearch\", \"\\u0434\\u0430\\u043d\\u043d\\u044b\\u0445\", \"\\u0437\\u0430\", \"\\u043e\\u043f\\u044b\\u0442\\u0430\", \"developer\", \"\\u0431\\u0430\\u043d\\u043a\\u043e\\u0432\\u0441\\u043a\\u043e\\u0433\\u043e\", \"bitbucket\", \"react\", \"\\u0432\\u043d\\u0443\\u0442\\u0440\\u0435\\u043d\\u043d\\u0435\\u0438\", \"none\", \"clickhouse\", \"kubernete\", \"\\u0441\\u0435\\u043d\\u044c\\u043e\\u0440\", \"\\u0441\\u0438\\u0441\\u0442\\u0435\\u043c\", \"senior\", \"grade\", \"postgresql\", \"docker\", \"api\", \"\\u0440\\u0430\\u0431\\u043e\\u0442\\u044b\", \"\\u0440\\u0430\\u0437\\u0440\\u0430\\u0431\\u043e\\u0442\\u043a\\u0438\", \"rest\", \"\\u0440\\u0430\\u0431\\u043e\\u0442\\u0430\\u0442\\u044c\", \"\\u0443\\u043d\\u0438\\u0432\\u0435\\u0440\\u0441\\u0438\\u0442\\u0435\\u0442\", \"\\u043f\\u0440\\u0438\\u043b\\u043e\\u0436\\u0435\\u043d\\u0438\\u0438\", \"\\u043b\\u0438\\u0447\\u043d\\u044b\\u0435\", \"framework\", \"\\u0440\\u0430\\u0437\\u0440\\u0430\\u0431\\u043e\\u0442\\u043a\\u0430\", \"\\u043a\\u043e\\u043c\\u043c\\u0435\\u0440\\u0447\\u0435\\u0441\\u043a\\u0438\\u0438\", \"rabbitmq\", \"spring\"], \"Freq\": [210.0, 100.0, 64.0, 28.0, 156.0, 45.0, 79.0, 43.0, 21.0, 42.0, 41.0, 40.0, 40.0, 17.0, 32.0, 35.0, 16.0, 20.0, 66.0, 14.0, 86.0, 38.0, 37.0, 30.0, 27.0, 13.0, 28.0, 76.0, 67.0, 28.0, 16.506754819095963, 12.601004574905353, 8.05617331803231, 7.661972742036803, 6.876366957722456, 6.134247520109009, 6.307482768728263, 5.474527315019642, 5.262017700091282, 6.11820315989231, 5.49445942228687, 5.1566943765481925, 5.081320810360442, 4.839007678915223, 8.656496539559514, 4.734755974042415, 5.514675462706054, 4.593259872244745, 4.037654595628104, 4.09762310914775, 3.7222036425884304, 3.722148382480362, 3.8468249560260497, 3.78424914237985, 3.6440243283722227, 3.587562236626986, 3.978560779399156, 3.9778204160728228, 3.483523634270376, 3.7380553556880507, 15.74727699085075, 9.098801497585457, 5.6530003670313, 6.7908279740857935, 4.193366894509241, 8.336743846615493, 4.322295443331568, 4.866404175034219, 4.78334945382493, 4.385406761008444, 27.336731159093958, 21.024391348561444, 15.760203055590788, 13.839107039767969, 10.42672384410873, 8.501942271498633, 8.067485896321628, 8.059985497213885, 7.171011431020763, 6.43294544389362, 6.662857400106402, 5.07001428940538, 5.402843044583269, 4.6557430010518654, 4.634769946476349, 4.633922237778893, 4.427116853803024, 4.054454368031731, 4.465900981939801, 4.870894654649996, 3.86293561971794, 4.500179417335889, 4.260628948896627, 3.5840875573750277, 3.365713875453389, 3.267246091921769, 4.194807907041308, 3.323125015002297, 3.6914974881640923, 3.3784745413971704, 7.986570308921074, 4.293351056073316, 5.484988989095852, 7.847114109548233, 7.871279475156454, 6.471954749440093, 7.03153133526975, 5.039255055240836, 6.207276626625458, 4.968810676936904, 5.206874974472169, 5.05074155404594, 5.075478900911172, 63.477447140261454, 45.38845010488905, 40.96460797636262, 40.12353921493426, 41.40177911532891, 42.624968373829645, 32.37883669451616, 27.045549469754054, 20.87151193912317, 18.436927910906146, 15.159261144320006, 11.785424434076651, 9.964001865545852, 9.96586970192159, 10.066282811436652, 9.612040127860652, 9.200315623894168, 11.110414978554598, 8.477804668202337, 8.31640004835188, 8.38079859693434, 9.19242621458582, 26.955387284747182, 7.984855819854501, 7.833291331381723, 7.488704239223625, 7.6294070664985965, 7.180791885276906, 8.189182868837598, 91.84596279397962, 188.06633585213623, 10.923728040956545, 25.20708952878546, 34.056792125183996, 17.357289403029455, 34.332821842730354, 10.204455443854648, 11.667355217691815, 28.98410624588059, 25.46991570075633, 39.20207423899297, 68.69689013780939, 39.715764868628106, 34.89955931626348, 20.409594331147673, 26.083848579046936, 29.408512988033923, 34.90298525826522, 27.561319512403834, 22.607193620039418, 18.581585258246374, 39.57185925730794, 34.5790116050012, 29.737885813781357, 27.98824842382531, 22.760981488388126, 20.598024610714507, 21.28935776411623, 21.308205112704112, 22.082522369621532, 21.176483592355424, 20.02756607868196, 18.842545498301124, 19.184609757814897, 16.53797267307567, 16.87558162053027, 14.288591514220405, 15.04424784383512, 14.840918618062764, 13.977222537578463, 13.392171448643236, 12.95471980388784, 11.886340201824165, 11.54586757277879, 11.548319247663674, 14.14025656757511, 11.775624757214398, 12.092537025600855, 12.00763231287821, 11.175543256341141, 10.782959611827254, 67.24015862567693, 30.094078926833003, 50.071760862793326, 32.53588444956051, 36.73708706482095, 87.24141423810225, 48.50817504857425, 37.59016339831188, 50.82223029429696, 25.737601480109355, 34.72038160178183, 20.335938215672286, 29.86875982223693, 30.429345858982234, 28.883502964728773, 27.69791685423072, 28.327995733080463, 23.312677266365558, 21.039261860811322, 22.469028523582125], \"Total\": [210.0, 100.0, 64.0, 28.0, 156.0, 45.0, 79.0, 43.0, 21.0, 42.0, 41.0, 40.0, 40.0, 17.0, 32.0, 35.0, 16.0, 20.0, 66.0, 14.0, 86.0, 38.0, 37.0, 30.0, 27.0, 13.0, 28.0, 76.0, 67.0, 28.0, 17.242929290690963, 13.179261350830945, 8.68610132770119, 8.269484136026009, 7.454768907340599, 6.736040350354989, 6.941961178718712, 6.0740190759818775, 5.841831549634282, 6.794901678588217, 6.11612853626547, 5.748611413750839, 5.6749313983992336, 5.4210969251835115, 9.700932271499498, 5.330791357025177, 6.241236872077843, 5.23795258382639, 4.630866706652808, 4.705554148660545, 4.300156344037736, 4.300157020441084, 4.451391850116859, 4.379676201217572, 4.221959870320235, 4.165528309049787, 4.627277375216512, 4.630637409880458, 4.061690309094922, 4.389762410898099, 20.123426551997916, 14.56406294680918, 8.048122500361421, 14.850060150038214, 5.870381888646785, 37.78128150684482, 7.420659164509356, 16.090927886575074, 40.298168038523904, 38.84759559366388, 28.015082970052468, 21.67974711729099, 16.472161572458187, 14.51966364067647, 11.046180898274182, 9.139948274964276, 8.684408826364447, 8.763531900936893, 7.842126883698595, 7.074042138176714, 7.417221053657537, 5.668010723152961, 6.070027563813521, 5.273959610857652, 5.278850980424711, 5.294000768608377, 5.065313731865309, 4.644318230352851, 5.116638766666854, 5.581113288531805, 4.450817987849969, 5.1887959462733, 4.919982987964133, 4.1711683066885765, 3.965047249449943, 3.857022599504092, 4.977459124479044, 3.972339833771848, 4.416386175389924, 4.04432977781238, 9.967696636430631, 5.3155221354517765, 7.200001700930083, 11.239484629894031, 16.38505822392361, 15.497809694811355, 55.25881982813913, 14.56406294680918, 45.25581631880239, 14.009699318099756, 25.93975474407989, 58.53205242339681, 73.30388626885963, 64.1281163906571, 45.97303032525013, 41.55558343734136, 40.706186556082706, 42.0358723530488, 43.335082165843694, 32.962963301413396, 27.63409004757109, 21.478232664572708, 19.03899731423455, 15.74154707300734, 12.405070833183547, 10.530703419086846, 10.54255186263967, 10.664762269919413, 10.2215589583862, 9.811838706699122, 11.873379345450024, 9.065294991149987, 8.897097440138596, 8.983216299494114, 9.86270430675328, 28.95328248611036, 8.594788989037127, 8.432770747469643, 8.067938419240145, 8.235915566063051, 7.756366269084164, 8.875193015163642, 100.18523611187696, 210.88624652143756, 11.927932823894478, 28.29008557473422, 38.84759559366388, 19.576306164728415, 40.84944985677959, 11.158369688487571, 13.016346656340092, 37.78128150684482, 32.64605234274284, 67.26510538235159, 156.29677800902795, 73.30388626885963, 67.62497421377464, 31.322997456165375, 47.47793128605762, 60.19768444932118, 86.08764267240777, 76.48065530899657, 53.28209110306253, 58.53205242339681, 40.13397863076338, 35.161994269796566, 30.28731118061792, 28.56761837049752, 23.322448640528833, 21.139029841355793, 21.852483941523285, 21.877808932457835, 22.703956511855512, 21.780922312225655, 20.599879142052625, 19.395166517854257, 19.751588492383462, 17.091992788687236, 17.460695104658555, 14.825228680811788, 15.612010676886742, 15.40103658118118, 14.549005443946104, 13.958928963147594, 13.518824186708397, 12.447468406061043, 12.091105483727429, 12.096371386964654, 14.824809691146392, 12.347136434834107, 12.683164163424312, 12.599480111875023, 11.765250520439665, 11.36989367126742, 79.1502219925038, 33.97000691413732, 66.21096334597738, 40.298168038523904, 48.888945156726365, 156.29677800902795, 76.48065530899657, 55.25881982813913, 86.08764267240777, 35.26988962977242, 58.53205242339681, 25.93975474407989, 53.28209110306253, 60.19768444932118, 67.62497421377464, 67.26510538235159, 73.30388626885963, 45.25581631880239, 47.47793128605762, 210.88624652143756], \"Category\": [\"Default\", \"Default\", \"Default\", \"Default\", \"Default\", \"Default\", \"Default\", \"Default\", \"Default\", \"Default\", \"Default\", \"Default\", \"Default\", \"Default\", \"Default\", \"Default\", \"Default\", \"Default\", \"Default\", \"Default\", \"Default\", \"Default\", \"Default\", \"Default\", \"Default\", \"Default\", \"Default\", \"Default\", \"Default\", \"Default\", \"Topic1\", \"Topic1\", \"Topic1\", \"Topic1\", \"Topic1\", \"Topic1\", \"Topic1\", \"Topic1\", \"Topic1\", \"Topic1\", \"Topic1\", \"Topic1\", \"Topic1\", \"Topic1\", \"Topic1\", \"Topic1\", \"Topic1\", \"Topic1\", \"Topic1\", \"Topic1\", \"Topic1\", \"Topic1\", \"Topic1\", \"Topic1\", \"Topic1\", \"Topic1\", \"Topic1\", \"Topic1\", \"Topic1\", \"Topic1\", \"Topic1\", \"Topic1\", \"Topic1\", \"Topic1\", \"Topic1\", \"Topic1\", \"Topic1\", \"Topic1\", \"Topic1\", \"Topic1\", \"Topic2\", \"Topic2\", \"Topic2\", \"Topic2\", \"Topic2\", \"Topic2\", \"Topic2\", \"Topic2\", \"Topic2\", \"Topic2\", \"Topic2\", \"Topic2\", \"Topic2\", \"Topic2\", \"Topic2\", \"Topic2\", \"Topic2\", \"Topic2\", \"Topic2\", \"Topic2\", \"Topic2\", \"Topic2\", \"Topic2\", \"Topic2\", \"Topic2\", \"Topic2\", \"Topic2\", \"Topic2\", \"Topic2\", \"Topic2\", \"Topic2\", \"Topic2\", \"Topic2\", \"Topic2\", \"Topic2\", \"Topic2\", \"Topic2\", \"Topic2\", \"Topic2\", \"Topic2\", \"Topic2\", \"Topic2\", \"Topic2\", \"Topic3\", \"Topic3\", \"Topic3\", \"Topic3\", \"Topic3\", \"Topic3\", \"Topic3\", \"Topic3\", \"Topic3\", \"Topic3\", \"Topic3\", \"Topic3\", \"Topic3\", \"Topic3\", \"Topic3\", \"Topic3\", \"Topic3\", \"Topic3\", \"Topic3\", \"Topic3\", \"Topic3\", \"Topic3\", \"Topic3\", \"Topic3\", \"Topic3\", \"Topic3\", \"Topic3\", \"Topic3\", \"Topic3\", \"Topic3\", \"Topic3\", \"Topic3\", \"Topic3\", \"Topic3\", \"Topic3\", \"Topic3\", \"Topic3\", \"Topic3\", \"Topic3\", \"Topic3\", \"Topic3\", \"Topic3\", \"Topic3\", \"Topic3\", \"Topic3\", \"Topic3\", \"Topic3\", \"Topic3\", \"Topic3\", \"Topic3\", \"Topic3\", \"Topic4\", \"Topic4\", \"Topic4\", \"Topic4\", \"Topic4\", \"Topic4\", \"Topic4\", \"Topic4\", \"Topic4\", \"Topic4\", \"Topic4\", \"Topic4\", \"Topic4\", \"Topic4\", \"Topic4\", \"Topic4\", \"Topic4\", \"Topic4\", \"Topic4\", \"Topic4\", \"Topic4\", \"Topic4\", \"Topic4\", \"Topic4\", \"Topic4\", \"Topic4\", \"Topic4\", \"Topic4\", \"Topic4\", \"Topic4\", \"Topic4\", \"Topic4\", \"Topic4\", \"Topic4\", \"Topic4\", \"Topic4\", \"Topic4\", \"Topic4\", \"Topic4\", \"Topic4\", \"Topic4\", \"Topic4\", \"Topic4\", \"Topic4\", \"Topic4\", \"Topic4\", \"Topic4\", \"Topic4\", \"Topic4\", \"Topic4\"], \"logprob\": [30.0, 29.0, 28.0, 27.0, 26.0, 25.0, 24.0, 23.0, 22.0, 21.0, 20.0, 19.0, 18.0, 17.0, 16.0, 15.0, 14.0, 13.0, 12.0, 11.0, 10.0, 9.0, 8.0, 7.0, 6.0, 5.0, 4.0, 3.0, 2.0, 1.0, -4.375, -4.645, -5.0923, -5.1425, -5.2507, -5.3649, -5.337, -5.4786, -5.5182, -5.3675, -5.475, -5.5385, -5.5532, -5.602, -5.0204, -5.6238, -5.4713, -5.6542, -5.7831, -5.7683, -5.8644, -5.8645, -5.8315, -5.8479, -5.8857, -5.9013, -5.7978, -5.798, -5.9307, -5.8602, -4.4221, -4.9706, -5.4466, -5.2632, -5.7452, -5.0581, -5.715, -5.5964, -5.6136, -5.7005, -3.874, -4.1365, -4.4247, -4.5547, -4.8378, -5.0419, -5.0944, -5.0953, -5.2122, -5.3208, -5.2857, -5.5589, -5.4953, -5.6441, -5.6486, -5.6488, -5.6945, -5.7824, -5.6857, -5.5989, -5.8308, -5.6781, -5.7328, -5.9057, -5.9686, -5.9983, -5.7484, -5.9813, -5.8762, -5.9648, -5.1045, -5.7251, -5.4802, -5.1221, -5.119, -5.3147, -5.2318, -5.565, -5.3565, -5.579, -5.5322, -5.5627, -5.5578, -3.8958, -4.2312, -4.3338, -4.3545, -4.3231, -4.294, -4.569, -4.7489, -5.0081, -5.1321, -5.3279, -5.5796, -5.7475, -5.7473, -5.7373, -5.7834, -5.8272, -5.6386, -5.909, -5.9282, -5.9205, -5.8281, -4.7523, -5.9689, -5.9881, -6.0331, -6.0145, -6.0751, -5.9436, -3.5264, -2.8097, -5.6555, -4.8193, -4.5184, -5.1925, -4.5104, -5.7236, -5.5897, -4.6797, -4.809, -4.3777, -3.8168, -4.3647, -4.494, -5.0305, -4.7851, -4.6652, -4.4939, -4.73, -4.9282, -5.1243, -4.4428, -4.5777, -4.7285, -4.7892, -4.9959, -5.0957, -5.0627, -5.0618, -5.0262, -5.068, -5.1238, -5.1848, -5.1668, -5.3153, -5.2951, -5.4615, -5.4099, -5.4235, -5.4835, -5.5263, -5.5595, -5.6455, -5.6746, -5.6744, -5.4719, -5.6549, -5.6283, -5.6354, -5.7072, -5.743, -3.9127, -4.7166, -4.2075, -4.6386, -4.5172, -3.6523, -4.2392, -4.4942, -4.1926, -4.873, -4.5736, -5.1085, -4.7241, -4.7055, -4.7577, -4.7996, -4.7771, -4.9719, -5.0745, -5.0088], \"loglift\": [30.0, 29.0, 28.0, 27.0, 26.0, 25.0, 24.0, 23.0, 22.0, 21.0, 20.0, 19.0, 18.0, 17.0, 16.0, 15.0, 14.0, 13.0, 12.0, 11.0, 10.0, 9.0, 8.0, 7.0, 6.0, 5.0, 4.0, 3.0, 2.0, 1.0, 1.8952, 1.8939, 1.8635, 1.8625, 1.8581, 1.8452, 1.843, 1.8349, 1.8343, 1.8339, 1.8316, 1.8302, 1.8283, 1.8252, 1.8249, 1.8202, 1.815, 1.8075, 1.8017, 1.8005, 1.7945, 1.7945, 1.7928, 1.7927, 1.7916, 1.7894, 1.7878, 1.7869, 1.7853, 1.7781, 1.6936, 1.4684, 1.5856, 1.1564, 1.6024, 0.4277, 1.3983, 0.7429, -0.1924, -0.2426, 1.9108, 1.9047, 1.8912, 1.8873, 1.8776, 1.863, 1.8617, 1.8517, 1.8459, 1.8404, 1.8281, 1.8239, 1.8189, 1.8107, 1.8052, 1.8022, 1.8007, 1.7995, 1.7993, 1.7992, 1.7937, 1.793, 1.7915, 1.7837, 1.7715, 1.7694, 1.7643, 1.7569, 1.7561, 1.7555, 1.7138, 1.7218, 1.6633, 1.5761, 1.2022, 1.0621, -0.1263, 0.8741, -0.0513, 0.8988, 0.3296, -0.5147, -0.7348, 1.0609, 1.0583, 1.0568, 1.0567, 1.0559, 1.0546, 1.0532, 1.0496, 1.0424, 1.039, 1.0334, 1.0199, 1.0158, 1.0149, 1.0134, 1.0096, 1.0068, 1.0047, 1.0041, 1.0036, 1.0017, 1.0007, 0.9996, 0.9975, 0.9974, 0.9966, 0.9946, 0.994, 0.9907, 0.9842, 0.9566, 0.9832, 0.9557, 0.9395, 0.9508, 0.8973, 0.9817, 0.9617, 0.806, 0.8229, 0.5312, 0.2491, 0.4582, 0.4096, 0.6428, 0.4722, 0.3548, 0.1683, 0.0505, 0.2138, -0.0763, 0.9825, 0.9799, 0.9783, 0.9761, 0.9723, 0.9707, 0.9705, 0.9702, 0.9689, 0.9685, 0.9685, 0.9677, 0.9675, 0.9637, 0.9625, 0.9598, 0.9596, 0.9596, 0.9565, 0.9552, 0.954, 0.9505, 0.9505, 0.9503, 0.9494, 0.9492, 0.9489, 0.9485, 0.9452, 0.9436, 0.8336, 0.8755, 0.7172, 0.7827, 0.7109, 0.4136, 0.5413, 0.6113, 0.4696, 0.6816, 0.4744, 0.7532, 0.4178, 0.3144, 0.1459, 0.1093, 0.0459, 0.3333, 0.1828, -1.2426]}, \"token.table\": {\"Topic\": [1, 2, 4, 1, 4, 2, 3, 4, 2, 4, 3, 4, 4, 3, 3, 1, 2, 4, 1, 3, 1, 1, 2, 4, 1, 4, 3, 4, 4, 1, 3, 1, 2, 3, 4, 2, 3, 4, 1, 3, 4, 2, 3, 3, 1, 3, 3, 4, 3, 3, 4, 1, 3, 4, 1, 2, 4, 4, 4, 3, 1, 2, 4, 1, 2, 3, 1, 4, 3, 4, 2, 2, 1, 2, 1, 2, 1, 3, 4, 4, 1, 2, 3, 4, 3, 2, 3, 2, 1, 3, 1, 2, 4, 1, 3, 4, 1, 4, 2, 3, 4, 1, 1, 1, 4, 3, 1, 2, 1, 3, 1, 4, 2, 1, 2, 4, 4, 4, 2, 2, 3, 3, 2, 1, 3, 4, 2, 2, 3, 4, 2, 4, 1, 4, 4, 3, 2, 1, 3, 4, 2, 3, 3, 3, 4, 3, 1, 2, 3, 4, 1, 1, 1, 2, 3, 4, 3, 2, 3, 2, 2, 3, 4, 4, 3, 1, 4, 2, 3, 1, 1, 4, 1, 3, 3, 3, 1, 2, 3, 1, 2, 2, 2, 4, 4, 4, 3, 4, 2, 3, 2, 4, 1, 4, 2, 4, 2, 2, 3, 4, 2, 3, 4, 1, 3, 4, 1, 2, 2, 3, 4, 3, 4, 2, 1, 3, 1, 3, 3, 1, 2, 3, 4, 4, 3, 2], \"Freq\": [0.7386087494859988, 0.3568955968626876, 0.6424120743528378, 0.8907310063372469, 0.9946177844898154, 0.1266766105713215, 0.1809665865304593, 0.6876730288157453, 0.8926149887412405, 0.9718852677569225, 0.9182989786764938, 0.07985208510230381, 0.9674672708503713, 0.9528923637830427, 0.8676318083076389, 0.8500592860329991, 0.4882497145063118, 0.4882497145063118, 0.10296647550183023, 0.8752150417655569, 0.9602623492702788, 0.13888885607774534, 0.6944442803887267, 0.9920330333881361, 0.8697752622554832, 0.9609891514482055, 0.36610564968193077, 0.6406848869433789, 0.9313035430096949, 0.7950932192714203, 0.19877330481785507, 0.9863982247518263, 0.9128739520129703, 0.579795419605965, 0.41626337817864156, 0.38715148257426285, 0.2581009883828419, 0.32262623547855235, 0.04090904382552076, 0.20454521912760382, 0.7568173107721341, 0.06907679642055962, 0.932536751677555, 0.9707865068862875, 0.0896188267567197, 0.8961882675671969, 0.8837018160993976, 0.10604421793192771, 0.9753574198639493, 0.15161044022259978, 0.8464916245761821, 0.9112110464269164, 0.8683967167733476, 0.10216431962039384, 0.20064816104959102, 0.8025926441983641, 0.9966617156999061, 0.9619479469879961, 0.9349567168918161, 0.992267646694165, 0.7455154913124837, 0.12425258188541397, 0.12425258188541397, 0.07344040153583865, 0.0979205353811182, 0.8323245507395047, 0.8175106148199132, 0.9801307073226757, 0.4414678336876174, 0.5566333555191697, 0.9589639414899409, 0.921191086227229, 0.5390356720775862, 0.40427675405818964, 0.6179594274530238, 0.34331079302945766, 0.8830149844414857, 0.5476228490948418, 0.44231076273044917, 0.9461361412166832, 0.855895956177137, 0.08542328165484536, 0.3246084702884124, 0.5979629715839175, 0.9713552714120619, 0.8821437086517429, 0.9777340774708373, 0.8612674243246465, 0.9301987369705964, 0.9866303540611074, 0.12407511912750331, 0.07444507147650199, 0.8188957862415218, 0.31073410031074605, 0.062146820062149215, 0.6214682006214921, 0.9389962434794197, 0.9796255155896452, 0.8987112056523923, 0.8914758695792375, 0.10432164431246396, 0.9301985906527908, 0.823178185226845, 0.8985953460590065, 0.9736153055822135, 0.9496041814144202, 0.8637691934111403, 0.8237194884925249, 0.9223225610987841, 0.9788347577184682, 0.9474272903727531, 0.9905138102585421, 0.8130109412543278, 0.9613479063489655, 0.9437496805556578, 0.9443628816605328, 0.9607987280079938, 0.9739604162961853, 0.9444652954431548, 0.7525130924245568, 0.1881282731061392, 0.9826516159869272, 0.7566114124910313, 0.9545714513412867, 0.9376674085090098, 0.9524202501569876, 0.7552223942409821, 0.0612631499515621, 0.7657893743945263, 0.15315787487890525, 0.7417792724169816, 0.9616220923104762, 0.8644392102846089, 0.9598767438198291, 0.964051452756196, 0.9013888471306102, 0.8036228726275382, 0.08383682359417408, 0.9222050595359148, 0.9708794824515241, 0.9480542834849088, 0.9770540645094691, 0.9454279394504803, 0.6385084961293624, 0.3511796728711494, 0.9172592690353917, 0.02209660727265527, 0.13257964363593164, 0.3314491090898291, 0.5082219672710713, 0.9674122192396499, 0.9133095270577263, 0.014787436322545887, 0.04436230896763766, 0.517560271289106, 0.4288356533538307, 0.9024844569165154, 0.8958786072796822, 0.8824864505578712, 0.963614690531645, 0.07682647261955897, 0.9219176714347076, 0.962265087736664, 0.9641464993524483, 0.9486798870229572, 0.6813866756668642, 0.17034666891671604, 0.7778020280165634, 0.9783243476569272, 0.9277458854589907, 0.8643090685084224, 0.9924650823822486, 0.9859113676919087, 0.9264422267629552, 0.9824083965949536, 0.9125286250179313, 0.26691615307883426, 0.7117764082102247, 0.8905496353739715, 0.8810679194131552, 0.789684550995619, 0.9057178972006086, 0.9846882858902368, 0.9934230736983114, 0.9443361921371319, 0.9953929157557564, 0.4817461047760786, 0.49835803942352963, 0.9637665549255174, 0.9673463506471899, 0.9686459849548315, 0.9861743230524905, 0.47137856205801204, 0.538718356637728, 0.19275432822436867, 0.7710173128974747, 0.9052902620454429, 0.9713357855080992, 0.40656241608550825, 0.5924195205817405, 0.06820920764911832, 0.5456736611929466, 0.3819715628350626, 0.05670559281568426, 0.19846957485489491, 0.7371727066038954, 0.9210115906070406, 0.9642096639745397, 0.8481713683354534, 0.1177509327599023, 0.8831319956992673, 0.24165182307337738, 0.7551619471043043, 0.7817632204287369, 0.21174506742315352, 0.7675758694089315, 0.9379470448436809, 0.9307965571003785, 0.8991696509817452, 0.8638119649500395, 0.018768032171742645, 0.4316647399500808, 0.5630409651522793, 0.9689941041118573, 0.9485369510429116, 0.9471758188555125], \"Term\": [\"age\", \"agile\", \"agile\", \"analysis\", \"ansible\", \"api\", \"api\", \"api\", \"axio\", \"bitbucket\", \"boot\", \"boot\", \"clickhouse\", \"cloud\", \"code_review\", \"compose_keycloak\", \"confluence\", \"confluence\", \"datum\", \"datum\", \"degree\", \"design\", \"design\", \"developer\", \"development\", \"devop\", \"docker\", \"docker\", \"elasticsearch\", \"etl\", \"etl\", \"experience\", \"fastapi\", \"framework\", \"framework\", \"frontend\", \"frontend\", \"frontend\", \"grade\", \"grade\", \"grade\", \"gradle\", \"gradle\", \"hibernate\", \"integration\", \"integration\", \"java\", \"java\", \"kafka\", \"kubernete\", \"kubernete\", \"less\", \"liquibase\", \"liquibase\", \"management\", \"management\", \"mongodb\", \"mysql\", \"none\", \"openshift\", \"openshift_istio\", \"openshift_istio\", \"openshift_istio\", \"oracle\", \"oracle\", \"oracle\", \"perl\", \"postgre\", \"postgresql\", \"postgresql\", \"power\", \"power_bi\", \"product\", \"product\", \"project\", \"project\", \"pyt\", \"rabbitmq\", \"rabbitmq\", \"react\", \"requirement\", \"rest\", \"rest\", \"rest\", \"restful\", \"retrofit\", \"review\", \"room\", \"salary\", \"security\", \"senior\", \"senior\", \"senior\", \"server\", \"server\", \"server\", \"skill\", \"soap\", \"solid\", \"spring\", \"spring\", \"strong\", \"system\", \"team\", \"teamcity\", \"testcontainer\", \"typescript\", \"unit\", \"use\", \"web\", \"work\", \"\\u0430\\u0432\\u0442\\u043e\\u043c\\u0430\\u0442\\u0438\\u0437\\u0430\\u0446\\u0438\\u0438\", \"\\u0430\\u043d\\u0430\\u043b\\u0438\\u0437\", \"\\u0430\\u043d\\u0430\\u043b\\u0438\\u0437\\u0430\", \"\\u0430\\u043d\\u0430\\u043b\\u0438\\u0442\\u0438\\u043a\\u0438\", \"\\u0431\\u0430\\u043d\\u043a\\u043e\\u0432\\u0441\\u043a\\u043e\\u0433\\u043e\", \"\\u0431\\u0430\\u043d\\u043a\\u043e\\u0432\\u0441\\u043a\\u043e\\u0438\", \"\\u0431\\u0438\\u0437\\u043d\\u0435\\u0441\", \"\\u0431\\u044b\\u0441\\u0442\\u0440\\u0430\\u044f_\\u043e\\u0431\\u0443\\u0447\\u0430\\u0435\\u043c\\u043e\\u0441\\u0442\\u044c\", \"\\u0432\\u0435\\u0440\\u0441\\u0442\\u043a\\u0430\", \"\\u0432\\u0435\\u0440\\u0441\\u0442\\u043a\\u0430\", \"\\u0432\\u043a\\u043b\\u044e\\u0447\\u0430\\u0435\\u0442\", \"\\u0432\\u043d\\u0435\\u0434\\u0440\\u0438\\u043b\", \"\\u0432\\u043d\\u0438\\u043c\\u0430\\u0442\\u0435\\u043b\\u044c\\u043d\\u043e\\u0441\\u0442\\u044c\", \"\\u0432\\u043d\\u0438\\u043c\\u0430\\u0442\\u0435\\u043b\\u044c\\u043d\\u043e\\u0441\\u0442\\u044c_\\u0434\\u0435\\u0442\\u0430\\u043b\\u044f\\u043c\", \"\\u0432\\u043d\\u0443\\u0442\\u0440\\u0435\\u043d\\u043d\\u0435\\u0438\", \"\\u0432\\u043d\\u0443\\u0442\\u0440\\u0435\\u043d\\u043d\\u0438\\u0445\", \"\\u0433\\u043e\\u0441\\u0443\\u0434\\u0430\\u0440\\u0441\\u0442\\u0432\\u0435\\u043d\\u043d\\u044b\\u0438\", \"\\u0433\\u043e\\u0441\\u0443\\u0434\\u0430\\u0440\\u0441\\u0442\\u0432\\u0435\\u043d\\u043d\\u044b\\u0438\", \"\\u0433\\u043e\\u0441\\u0443\\u0434\\u0430\\u0440\\u0441\\u0442\\u0432\\u0435\\u043d\\u043d\\u044b\\u0438\", \"\\u0434\\u0430\\u0432\\u043b\\u0435\\u043d\\u0438\\u0435\\u043c\", \"\\u0434\\u0430\\u043d\\u043d\\u044b\\u0445\", \"\\u0434\\u0438\\u0441\\u0442\\u0430\\u043d\\u0446\\u0438\\u043e\\u043d\\u043d\\u043e\\u0433\\u043e\", \"\\u0435\\u0441\\u0442\\u044c\", \"\\u0437\\u0430\", \"\\u0437\\u0430\\u0434\\u0430\\u0447\", \"\\u0438\\u0437_\\u0441\\u043f\\u0435\\u0446\\u0438\\u0430\\u043b\\u0438\\u0441\\u0442\\u043e\\u0432\", \"\\u0438\\u043c\\u0435\\u0435\\u0442\\u0441\\u044f\", \"\\u0438\\u043c\\u0435\\u0435\\u0442\\u0441\\u044f\", \"\\u0438\\u043d\\u0442\\u0435\\u0433\\u0440\\u0430\\u0446\\u0438\\u044f\", \"\\u0438\\u043d\\u0444\\u043e\\u0440\\u043c\\u0430\\u0446\\u0438\\u043e\\u043d\\u043d\\u044b\\u043c\", \"\\u0438\\u0441\\u043f\\u043e\\u043b\\u044c\\u0437\\u043e\\u0432\\u0430\\u043d\\u0438\\u0435\\u043c\", \"\\u043a\\u0430\\u043a\", \"\\u043a\\u043e\\u0434\\u0430\", \"\\u043a\\u043e\\u0434\\u0430\", \"\\u043a\\u043e\\u043c\\u0430\\u043d\\u0434\\u0430\", \"\\u043a\\u043e\\u043c\\u043c\\u0435\\u0440\\u0447\\u0435\\u0441\\u043a\\u0438\\u0438\", \"\\u043a\\u043e\\u043c\\u043c\\u0435\\u0440\\u0447\\u0435\\u0441\\u043a\\u0438\\u0438\", \"\\u043a\\u043e\\u043c\\u043c\\u0435\\u0440\\u0447\\u0435\\u0441\\u043a\\u0438\\u0438\", \"\\u043a\\u043e\\u043c\\u043c\\u0435\\u0440\\u0447\\u0435\\u0441\\u043a\\u0438\\u0438\", \"\\u043a\\u043e\\u043c\\u043f\\u043e\\u043d\\u0435\\u043d\\u0442\\u043e\\u0432\", \"\\u043a\\u0443\\u0440\\u0441\", \"\\u043b\\u0438\\u0447\\u043d\\u044b\\u0435\", \"\\u043b\\u0438\\u0447\\u043d\\u044b\\u0435\", \"\\u043b\\u0438\\u0447\\u043d\\u044b\\u0435\", \"\\u043b\\u0438\\u0447\\u043d\\u044b\\u0435\", \"\\u043b\\u044e\\u0431\\u043e\\u0432\\u044c\", \"\\u043b\\u044e\\u0434\\u0435\\u0438\", \"\\u043c\\u0438\\u043a\\u0440\\u043e\\u0441\\u0435\\u0440\\u0432\\u0438\\u0441\\u043d\\u043e\\u0438_\\u0430\\u0440\\u0445\\u0438\\u0442\\u0435\\u043a\\u0442\\u0443\\u0440\\u0435\", \"\\u043c\\u0438\\u043a\\u0440\\u043e\\u0441\\u0435\\u0440\\u0432\\u0438\\u0441\\u043e\\u0432\", \"\\u043c\\u043e\\u0441\\u043a\\u043e\\u0432\\u0441\\u043a\\u0438\\u0438\", \"\\u043c\\u043e\\u0441\\u043a\\u043e\\u0432\\u0441\\u043a\\u0438\\u0438\", \"\\u043d\\u0430\\u0434_\\u043f\\u0440\\u043e\\u0435\\u043a\\u0442\\u0430\\u043c\\u0438\", \"\\u043d\\u0430\\u043f\\u0438\\u0441\\u0430\\u043d\\u0438\\u0435\", \"\\u043d\\u0430\\u043f\\u0438\\u0441\\u0430\\u043d\\u0438\\u044f\", \"\\u043d\\u0430\\u043f\\u0440\\u0430\\u0432\\u043b\\u0435\\u043d\\u0438\\u044e\", \"\\u043d\\u0430\\u043f\\u0440\\u0430\\u0432\\u043b\\u0435\\u043d\\u0438\\u044e\", \"\\u043d\\u043e\\u0432\\u043e\\u0435\", \"\\u043e\\u0431\\u0443\\u0447\\u0435\\u043d\\u0438\\u044e\", \"\\u043e\\u043f\\u0442\\u0438\\u043c\\u0438\\u0437\\u0430\\u0446\\u0438\\u0438\", \"\\u043e\\u043f\\u0442\\u0438\\u043c\\u0438\\u0437\\u0430\\u0446\\u0438\\u044f\", \"\\u043e\\u043f\\u044b\\u0442\\u0430\", \"\\u043e\\u043f\\u044b\\u0442\\u043d\\u044b\\u0438_\\u0441\\u043f\\u0435\\u0446\\u0438\\u0430\\u043b\\u0438\\u0441\\u0442\", \"\\u043e\\u043f\\u044b\\u0442\\u043e\\u043c\", \"\\u043e\\u0442\\u0432\\u0435\\u0442\\u0441\\u0442\\u0432\\u0435\\u043d\\u043d\\u043e\\u0441\\u0442\\u044c\", \"\\u043e\\u0442\\u0441\\u0443\\u0442\\u0441\\u0442\\u0432\\u0443\\u0435\\u0442\", \"\\u043e\\u0442\\u0447\\u0435\\u0442\\u043e\\u0432\", \"\\u043e\\u0442\\u0447\\u0435\\u0442\\u043e\\u0432\", \"\\u043e\\u0448\\u0438\\u0431\\u043e\\u043a\", \"\\u043f\\u0438\\u0441\\u0430\\u043b\", \"\\u043f\\u043e\\u0434\", \"\\u043f\\u043e\\u0434\\u0434\\u0435\\u0440\\u0436\\u043a\\u043e\\u0438\", \"\\u043f\\u043e\\u043b\\u044c\\u0437\\u043e\\u0432\\u0430\\u0442\\u0435\\u043b\\u0435\\u0438\", \"\\u043f\\u0440\\u0435\\u0434\\u043b\\u043e\\u0436\\u0435\\u043d\\u0438\\u0435_\\u0432\\u043e\\u0437\\u0440\\u0430\\u0441\\u0442\\u043e\\u043c\", \"\\u043f\\u0440\\u0435\\u0434\\u043b\\u043e\\u0436\\u0435\\u043d\\u0438\\u0435_\\u0441\\u043e\\u0434\\u0435\\u0440\\u0436\\u0430\\u0449\\u0435\\u0435\", \"\\u043f\\u0440\\u0435\\u0434\\u043f\\u043e\\u0447\\u0442\\u0435\\u043d\\u0438\\u044f\", \"\\u043f\\u0440\\u0438\\u043b\\u043e\\u0436\\u0435\\u043d\\u0438\\u0438\", \"\\u043f\\u0440\\u0438\\u043b\\u043e\\u0436\\u0435\\u043d\\u0438\\u0438\", \"\\u043f\\u0440\\u0438\\u043b\\u043e\\u0436\\u0435\\u043d\\u0438\\u044f\", \"\\u043f\\u0440\\u043e\\u0435\\u043a\\u0442\", \"\\u043f\\u0440\\u043e\\u0435\\u043a\\u0442\\u0435\", \"\\u043f\\u0440\\u043e\\u0435\\u043a\\u0442\\u043e\\u0432\", \"\\u043f\\u0440\\u043e\\u0435\\u043a\\u0442\\u044b\", \"\\u043f\\u0440\\u043e\\u0435\\u043a\\u0442\\u044b\", \"\\u0440\\u0430\\u0431\\u043e\\u0442\\u0430\\u0442\\u044c\", \"\\u0440\\u0430\\u0431\\u043e\\u0442\\u0430\\u0442\\u044c\", \"\\u0440\\u0430\\u0431\\u043e\\u0442\\u0430\\u044e\", \"\\u0440\\u0430\\u0431\\u043e\\u0442\\u0435\", \"\\u0440\\u0430\\u0431\\u043e\\u0442\\u044b\", \"\\u0440\\u0430\\u0431\\u043e\\u0442\\u044b\", \"\\u0440\\u0430\\u0437\\u0440\\u0430\\u0431\\u043e\\u0442\\u043a\\u0430\", \"\\u0440\\u0430\\u0437\\u0440\\u0430\\u0431\\u043e\\u0442\\u043a\\u0430\", \"\\u0440\\u0430\\u0437\\u0440\\u0430\\u0431\\u043e\\u0442\\u043a\\u0430\", \"\\u0440\\u0430\\u0437\\u0440\\u0430\\u0431\\u043e\\u0442\\u043a\\u0438\", \"\\u0440\\u0430\\u0437\\u0440\\u0430\\u0431\\u043e\\u0442\\u043a\\u0438\", \"\\u0440\\u0430\\u0437\\u0440\\u0430\\u0431\\u043e\\u0442\\u043a\\u0438\", \"\\u0440\\u0430\\u0437\\u0440\\u0430\\u0431\\u043e\\u0442\\u043a\\u0443\", \"\\u0440\\u0430\\u0437\\u0440\\u0430\\u0431\\u043e\\u0442\\u0447\\u0438\\u043a\", \"\\u0440\\u0435\\u0441\\u0443\\u0440\\u0441\\u043e\\u0432\", \"\\u0441\\u0435\\u043d\\u044c\\u043e\\u0440\", \"\\u0441\\u0435\\u043d\\u044c\\u043e\\u0440\", \"\\u0441\\u0438\\u0441\\u0442\\u0435\\u043c\", \"\\u0441\\u0438\\u0441\\u0442\\u0435\\u043c\", \"\\u0441\\u0438\\u0441\\u0442\\u0435\\u043c\\u043e\\u0438\", \"\\u0441\\u0438\\u0441\\u0442\\u0435\\u043c\\u044b\", \"\\u0441\\u0438\\u0441\\u0442\\u0435\\u043c\\u044b\", \"\\u0441\\u043a\\u0440\\u0438\\u043f\\u0442\\u043e\\u0432\", \"\\u0441\\u0442\\u0440\\u0435\\u043c\\u043b\\u0435\\u043d\\u0438\\u0435\", \"\\u0442\\u0435\\u0441\\u0442\\u043e\\u0432\", \"\\u0443\\u043c\\u0435\\u043d\\u0438\\u0435\", \"\\u0443\\u043d\\u0438\\u0432\\u0435\\u0440\\u0441\\u0438\\u0442\\u0435\\u0442\", \"\\u0443\\u043d\\u0438\\u0432\\u0435\\u0440\\u0441\\u0438\\u0442\\u0435\\u0442\", \"\\u0443\\u043d\\u0438\\u0432\\u0435\\u0440\\u0441\\u0438\\u0442\\u0435\\u0442\", \"\\u0443\\u0447\\u0430\\u0441\\u0442\\u0432\\u043e\\u0432\\u0430\\u043b\", \"\\u0443\\u0447\\u0430\\u0441\\u0442\\u0438\\u0435\", \"\\u0444\\u0437\"]}, \"R\": 30, \"lambda.step\": 0.01, \"plot.opts\": {\"xlab\": \"PC1\", \"ylab\": \"PC2\"}, \"topic.order\": [1, 2, 3, 4]};\n",
              "\n",
              "function LDAvis_load_lib(url, callback){\n",
              "  var s = document.createElement('script');\n",
              "  s.src = url;\n",
              "  s.async = true;\n",
              "  s.onreadystatechange = s.onload = callback;\n",
              "  s.onerror = function(){console.warn(\"failed to load library \" + url);};\n",
              "  document.getElementsByTagName(\"head\")[0].appendChild(s);\n",
              "}\n",
              "\n",
              "if(typeof(LDAvis) !== \"undefined\"){\n",
              "   // already loaded: just create the visualization\n",
              "   !function(LDAvis){\n",
              "       new LDAvis(\"#\" + \"ldavis_el110801325041219620327718093956\", ldavis_el110801325041219620327718093956_data);\n",
              "   }(LDAvis);\n",
              "}else if(typeof define === \"function\" && define.amd){\n",
              "   // require.js is available: use it to load d3/LDAvis\n",
              "   require.config({paths: {d3: \"https://d3js.org/d3.v5\"}});\n",
              "   require([\"d3\"], function(d3){\n",
              "      window.d3 = d3;\n",
              "      LDAvis_load_lib(\"https://cdn.jsdelivr.net/gh/bmabey/pyLDAvis@3.4.0/pyLDAvis/js/ldavis.v3.0.0.js\", function(){\n",
              "        new LDAvis(\"#\" + \"ldavis_el110801325041219620327718093956\", ldavis_el110801325041219620327718093956_data);\n",
              "      });\n",
              "    });\n",
              "}else{\n",
              "    // require.js not available: dynamically load d3 & LDAvis\n",
              "    LDAvis_load_lib(\"https://d3js.org/d3.v5.js\", function(){\n",
              "         LDAvis_load_lib(\"https://cdn.jsdelivr.net/gh/bmabey/pyLDAvis@3.4.0/pyLDAvis/js/ldavis.v3.0.0.js\", function(){\n",
              "                 new LDAvis(\"#\" + \"ldavis_el110801325041219620327718093956\", ldavis_el110801325041219620327718093956_data);\n",
              "            })\n",
              "         });\n",
              "}\n",
              "</script>"
            ]
          },
          "metadata": {},
          "execution_count": 39
        }
      ]
    },
    {
      "cell_type": "code",
      "execution_count": null,
      "metadata": {
        "id": "-ONs9FeV5dTX"
      },
      "outputs": [],
      "source": [
        "def compute_coherence_values(dictionary, corpus, texts, limit, start=2, step=3):\n",
        "    \"\"\"\n",
        "    Compute c_v coherence for various number of topics\n",
        "\n",
        "    Parameters:\n",
        "    ----------\n",
        "    dictionary : Gensim dictionary\n",
        "    corpus : Gensim corpus\n",
        "    texts : List of input texts\n",
        "    limit : Max num of topics\n",
        "\n",
        "    Returns:\n",
        "    -------\n",
        "    model_list : List of LDA topic models\n",
        "    coherence_values : Coherence values corresponding to the LDA model with respective number of topics\n",
        "    \"\"\"\n",
        "    coherence_values = []\n",
        "    model_list = []\n",
        "    for num_topics in range(start, limit, step):\n",
        "        print(num_topics)\n",
        "        model = gensim.models.ldamodel.LdaModel(corpus=corpus,\n",
        "                                           id2word=id2word,\n",
        "                                           num_topics=num_topics,\n",
        "                                           random_state=100,\n",
        "                                           update_every=1,\n",
        "                                           chunksize=100,\n",
        "                                           passes=10,\n",
        "                                           alpha='auto',\n",
        "                                           per_word_topics=True)\n",
        "        model_list.append(model)\n",
        "        coherencemodel = CoherenceModel(model=model, texts=texts, dictionary=dictionary, coherence='c_v')\n",
        "        coherence_values.append(coherencemodel.get_coherence())\n",
        "\n",
        "    return model_list, coherence_values"
      ]
    },
    {
      "cell_type": "code",
      "execution_count": null,
      "metadata": {
        "id": "X7dSxyIc5iy3",
        "outputId": "5d4330f1-f77d-4ef0-b2d2-8a17a78ca815",
        "colab": {
          "base_uri": "https://localhost:8080/",
          "height": 536
        }
      },
      "outputs": [
        {
          "output_type": "stream",
          "name": "stdout",
          "text": [
            "2\n",
            "8\n",
            "14\n",
            "20\n",
            "26\n"
          ]
        },
        {
          "output_type": "display_data",
          "data": {
            "text/plain": [
              "<Figure size 640x480 with 1 Axes>"
            ],
            "image/png": "[encoded data removed]"
          },
          "metadata": {}
        }
      ],
      "source": [
        "# Evaluete optimal num_topics. Long time to run.\n",
        "model_list, coherence_values = compute_coherence_values(dictionary=id2word, corpus=corpus, texts=data_lemmatized, start=2, limit=30, step=6)\n",
        "\n",
        "# Show graph\n",
        "limit=30; start=2; step=6;\n",
        "x = range(start, limit, step)\n",
        "plt.plot(x, coherence_values)\n",
        "plt.xlabel(\"Num Topics\")\n",
        "plt.ylabel(\"Coherence score\")\n",
        "plt.legend((\"coherence_values\"), loc='best')\n",
        "plt.show()"
      ]
    },
    {
      "cell_type": "code",
      "execution_count": null,
      "metadata": {
        "id": "a4J4eDLWnjrP"
      },
      "outputs": [],
      "source": []
    },
    {
      "cell_type": "code",
      "execution_count": null,
      "metadata": {
        "id": "LgqtUKNwnjrP"
      },
      "outputs": [],
      "source": []
    }
  ],
  "metadata": {
    "colab": {
      "provenance": []
    },
    "kernelspec": {
      "display_name": "Python 3 (ipykernel)",
      "language": "python",
      "name": "python3"
    },
    "language_info": {
      "codemirror_mode": {
        "name": "ipython",
        "version": 3
      },
      "file_extension": ".py",
      "mimetype": "text/x-python",
      "name": "python",
      "nbconvert_exporter": "python",
      "pygments_lexer": "ipython3",
      "version": "3.9.12"
    }
  },
  "nbformat": 4,
  "nbformat_minor": 0
}